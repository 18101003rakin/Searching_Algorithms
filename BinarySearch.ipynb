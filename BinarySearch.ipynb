{
  "nbformat": 4,
  "nbformat_minor": 0,
  "metadata": {
    "colab": {
      "name": "BinarySearch.ipynb",
      "provenance": [],
      "authorship_tag": "ABX9TyM52+UW8aKIxD88hMqr/gkG",
      "include_colab_link": true
    },
    "kernelspec": {
      "name": "python3",
      "display_name": "Python 3"
    },
    "language_info": {
      "name": "python"
    }
  },
  "cells": [
    {
      "cell_type": "markdown",
      "metadata": {
        "id": "view-in-github",
        "colab_type": "text"
      },
      "source": [
        "<a href=\"https://colab.research.google.com/github/18101003rakin/Searching_Algorithms/blob/main/BinarySearch.ipynb\" target=\"_parent\"><img src=\"https://colab.research.google.com/assets/colab-badge.svg\" alt=\"Open In Colab\"/></a>"
      ]
    },
    {
      "cell_type": "code",
      "metadata": {
        "colab": {
          "base_uri": "https://localhost:8080/"
        },
        "id": "gj_7-K4MlB7T",
        "outputId": "c9c2544a-e59c-4732-a843-8b22e89ca9d8"
      },
      "source": [
        "def binarySearch (arr, l, r, x):\n",
        "\n",
        "\t\n",
        "\tif r >= l:\n",
        "\n",
        "\t\tmid = l + (r - l) // 2\n",
        "\n",
        "\t\tif arr[mid] == x:\n",
        "\t\t\treturn mid\n",
        "\t\t\n",
        "\t\telif arr[mid] > x:\n",
        "\t\t\treturn binarySearch(arr, l, mid-1, x)\n",
        "\n",
        "\t\telse:\n",
        "\t\t\treturn binarySearch(arr, mid + 1, r, x)\n",
        "\n",
        "\telse:\n",
        "\t\treturn -1\n",
        "\n",
        "arr = [ 2, 3, 4, 10, 40 ]\n",
        "x = 10\n",
        "\n",
        "result = binarySearch(arr, 0, len(arr)-1, x)\n",
        "\n",
        "if result != -1:\n",
        "\tprint (\"Element is present at index % d\" % result)\n",
        "else:\n",
        "\tprint (\"Element is not present in array\")"
      ],
      "execution_count": 2,
      "outputs": [
        {
          "output_type": "stream",
          "name": "stdout",
          "text": [
            "Element is present at index  3\n"
          ]
        }
      ]
    }
  ]
}