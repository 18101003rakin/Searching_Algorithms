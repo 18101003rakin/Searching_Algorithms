{
  "nbformat": 4,
  "nbformat_minor": 0,
  "metadata": {
    "colab": {
      "name": "Sort.ipynb",
      "provenance": [],
      "authorship_tag": "ABX9TyMvp/eWv8OcRQd7eCJUBa2z",
      "include_colab_link": true
    },
    "kernelspec": {
      "name": "python3",
      "display_name": "Python 3"
    },
    "language_info": {
      "name": "python"
    }
  },
  "cells": [
    {
      "cell_type": "markdown",
      "metadata": {
        "id": "view-in-github",
        "colab_type": "text"
      },
      "source": [
        "<a href=\"https://colab.research.google.com/github/18101003rakin/Searching_Algorithms/blob/main/Sort.ipynb\" target=\"_parent\"><img src=\"https://colab.research.google.com/assets/colab-badge.svg\" alt=\"Open In Colab\"/></a>"
      ]
    },
    {
      "cell_type": "code",
      "metadata": {
        "colab": {
          "base_uri": "https://localhost:8080/"
        },
        "id": "bCo9EBurnRtC",
        "outputId": "666c5ea0-ba68-4c16-9c91-416ef163eac1"
      },
      "source": [
        "#Rakin Mohammad Sifullah\n",
        "#Insertion Sort\n",
        "def insertionSort(arr):\n",
        "\n",
        "\tfor i in range(1, len(arr)):\n",
        "\n",
        "\t\tkey = arr[i]\n",
        "\n",
        "\t\tj = i-1\n",
        "\t\twhile j >= 0 and key < arr[j] :\n",
        "\t\t\t\tarr[j + 1] = arr[j]\n",
        "\t\t\t\tj -= 1\n",
        "\t\tarr[j + 1] = key\n",
        "\n",
        "arr = [12, 11, 13, 5, 6]\n",
        "insertionSort(arr)\n",
        "for i in range(len(arr)):\n",
        "\tprint (\"% d\" % arr[i])"
      ],
      "execution_count": 4,
      "outputs": [
        {
          "output_type": "stream",
          "name": "stdout",
          "text": [
            " 5\n",
            " 6\n",
            " 11\n",
            " 12\n",
            " 13\n"
          ]
        }
      ]
    },
    {
      "cell_type": "code",
      "metadata": {
        "colab": {
          "base_uri": "https://localhost:8080/"
        },
        "id": "U9sbiVi0CyZw",
        "outputId": "33731d8f-83de-4996-de06-a987676a2745"
      },
      "source": [
        "# Rakin Mohammad Sifullah\n",
        "# Selection Sort\n",
        "\n",
        "import sys\n",
        "A = [64, 25, 12, 22, 11]\n",
        "\n",
        "for i in range(len(A)):\n",
        "\n",
        "\tmin_idx = i\n",
        "\tfor j in range(i+1, len(A)):\n",
        "\t\tif A[min_idx] > A[j]:\n",
        "\t\t\tmin_idx = j\n",
        "\n",
        "\tA[i], A[min_idx] = A[min_idx], A[i]\n",
        "\n",
        "print (\"Sorted array\")\n",
        "for i in range(len(A)):\n",
        "\tprint(\"%d\" %A[i]),"
      ],
      "execution_count": 5,
      "outputs": [
        {
          "output_type": "stream",
          "name": "stdout",
          "text": [
            "Sorted array\n",
            "11\n",
            "12\n",
            "22\n",
            "25\n",
            "64\n"
          ]
        }
      ]
    },
    {
      "cell_type": "code",
      "metadata": {
        "colab": {
          "base_uri": "https://localhost:8080/"
        },
        "id": "t14SLx1iD52d",
        "outputId": "c6b9ca47-fcd3-43fa-c79d-8c029a0e76ef"
      },
      "source": [
        "# Bubble Sort\n",
        "# Rakin Mohammad Sifullah\n",
        "\n",
        "def bubbleSort(arr):\n",
        "\tn = len(arr)\n",
        "\n",
        "\tfor i in range(n):\n",
        "\n",
        "\t\tfor j in range(0, n-i-1):\n",
        "\n",
        "\t\t\tif arr[j] > arr[j+1] :\n",
        "\t\t\t\tarr[j], arr[j+1] = arr[j+1], arr[j]\n",
        "\n",
        "arr = [64, 34, 25, 12, 22, 11, 90]\n",
        "\n",
        "bubbleSort(arr)\n",
        "\n",
        "print (\"Sorted array is:\")\n",
        "for i in range(len(arr)):\n",
        "\tprint (\"%d\" %arr[i]),\n"
      ],
      "execution_count": 7,
      "outputs": [
        {
          "output_type": "stream",
          "name": "stdout",
          "text": [
            "Sorted array is:\n",
            "11\n",
            "12\n",
            "22\n",
            "25\n",
            "34\n",
            "64\n",
            "90\n"
          ]
        }
      ]
    },
    {
      "cell_type": "code",
      "metadata": {
        "colab": {
          "base_uri": "https://localhost:8080/"
        },
        "id": "IL76si5QeHEs",
        "outputId": "0e3f4d9b-c1e1-459c-b381-13a6626aff8c"
      },
      "source": [
        "# Merge Sort\n",
        "# Rakin Mohammad Sifullah\n",
        "\n",
        "def mergeSort(arr):\n",
        "\tif len(arr) > 1:\n",
        "\n",
        "\t\tmid = len(arr)//2\n",
        "\n",
        "\t\tL = arr[:mid]\n",
        "\n",
        "\t\tR = arr[mid:]\n",
        "\n",
        "\t\tmergeSort(L)\n",
        "\n",
        "\t\tmergeSort(R)\n",
        "\n",
        "\t\ti = j = k = 0\n",
        "\n",
        "\t\twhile i < len(L) and j < len(R):\n",
        "\t\t\tif L[i] < R[j]:\n",
        "\t\t\t\tarr[k] = L[i]\n",
        "\t\t\t\ti += 1\n",
        "\t\t\telse:\n",
        "\t\t\t\tarr[k] = R[j]\n",
        "\t\t\t\tj += 1\n",
        "\t\t\tk += 1\n",
        "\n",
        "\t\twhile i < len(L):\n",
        "\t\t\tarr[k] = L[i]\n",
        "\t\t\ti += 1\n",
        "\t\t\tk += 1\n",
        "\n",
        "\t\twhile j < len(R):\n",
        "\t\t\tarr[k] = R[j]\n",
        "\t\t\tj += 1\n",
        "\t\t\tk += 1\n",
        "\n",
        "def printList(arr):\n",
        "\tfor i in range(len(arr)):\n",
        "\t\tprint(arr[i], end=\" \")\n",
        "\tprint()\n",
        "\n",
        "if __name__ == '__main__':\n",
        "\tarr = [12, 11, 13, 5, 6, 7]\n",
        "\tprint(\"Given array is\", end=\"\\n\")\n",
        "\tprintList(arr)\n",
        "\tmergeSort(arr)\n",
        "\tprint(\"Sorted array is: \", end=\"\\n\")\n",
        "\tprintList(arr)"
      ],
      "execution_count": 8,
      "outputs": [
        {
          "output_type": "stream",
          "name": "stdout",
          "text": [
            "Given array is\n",
            "12 11 13 5 6 7 \n",
            "Sorted array is: \n",
            "5 6 7 11 12 13 \n"
          ]
        }
      ]
    },
    {
      "cell_type": "code",
      "metadata": {
        "colab": {
          "base_uri": "https://localhost:8080/"
        },
        "id": "zwR9bT3Yfpns",
        "outputId": "c933425c-c636-4aa6-f661-164d139948da"
      },
      "source": [
        "# counting sort\n",
        "# Rakin Mohammad Sifullah\n",
        "\n",
        "def countSort(arr):\n",
        "\n",
        "\toutput = [0 for i in range(len(arr))]\n",
        "\n",
        "\tcount = [0 for i in range(256)]\n",
        "\n",
        "\tans = [\"\" for _ in arr]\n",
        "\n",
        "\tfor i in arr:\n",
        "\t\tcount[ord(i)] += 1\n",
        "\n",
        "\tfor i in range(256):\n",
        "\t\tcount[i] += count[i-1]\n",
        "\n",
        "\tfor i in range(len(arr)):\n",
        "\t\toutput[count[ord(arr[i])]-1] = arr[i]\n",
        "\t\tcount[ord(arr[i])] -= 1\n",
        "\n",
        "\tfor i in range(len(arr)):\n",
        "\t\tans[i] = output[i]\n",
        "\treturn ans\n",
        "\n",
        "arr = \"rakinsifullah\"\n",
        "ans = countSort(arr)\n",
        "print(\"Sorted character array is % s\" %(\"\".join(ans)))"
      ],
      "execution_count": 10,
      "outputs": [
        {
          "output_type": "stream",
          "name": "stdout",
          "text": [
            "Sorted character array is aafhiikllnrsu\n"
          ]
        }
      ]
    }
  ]
}