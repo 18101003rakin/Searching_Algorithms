{
  "nbformat": 4,
  "nbformat_minor": 0,
  "metadata": {
    "colab": {
      "name": "Dinajpur_to_uap.ipynb",
      "provenance": [],
      "include_colab_link": true
    },
    "kernelspec": {
      "name": "python3",
      "display_name": "Python 3"
    },
    "language_info": {
      "name": "python"
    }
  },
  "cells": [
    {
      "cell_type": "markdown",
      "metadata": {
        "id": "view-in-github",
        "colab_type": "text"
      },
      "source": [
        "<a href=\"https://colab.research.google.com/github/18101003rakin/Searching_Algorithms/blob/main/Dinajpur_to_uap.ipynb\" target=\"_parent\"><img src=\"https://colab.research.google.com/assets/colab-badge.svg\" alt=\"Open In Colab\"/></a>"
      ]
    },
    {
      "cell_type": "code",
      "metadata": {
        "colab": {
          "base_uri": "https://localhost:8080/"
        },
        "id": "1hNDD1mFgadQ",
        "outputId": "0b7c6470-bd85-495d-92e9-453925caaeb7"
      },
      "source": [
        "from google.colab import drive\n",
        "drive.mount('/content/drive')"
      ],
      "execution_count": null,
      "outputs": [
        {
          "output_type": "stream",
          "name": "stdout",
          "text": [
            "Drive already mounted at /content/drive; to attempt to forcibly remount, call drive.mount(\"/content/drive\", force_remount=True).\n"
          ]
        }
      ]
    },
    {
      "cell_type": "code",
      "metadata": {
        "colab": {
          "base_uri": "https://localhost:8080/",
          "height": 726
        },
        "id": "TlSRDvL7cHLl",
        "outputId": "6b2ea353-e7f5-4980-ebc4-3a8130c25e42"
      },
      "source": [
        "import pandas as pd\n",
        "#from google.colab import files\n",
        "#uploaded = files.upload()\n",
        "pd.set_option('mode.chained_assignment', None)\n",
        "path = \"/dnj_to_uap.csv\"\n",
        "df = pd.read_csv(path)\n",
        "df"
      ],
      "execution_count": null,
      "outputs": [
        {
          "output_type": "execute_result",
          "data": {
            "text/html": [
              "<div>\n",
              "<style scoped>\n",
              "    .dataframe tbody tr th:only-of-type {\n",
              "        vertical-align: middle;\n",
              "    }\n",
              "\n",
              "    .dataframe tbody tr th {\n",
              "        vertical-align: top;\n",
              "    }\n",
              "\n",
              "    .dataframe thead th {\n",
              "        text-align: right;\n",
              "    }\n",
              "</style>\n",
              "<table border=\"1\" class=\"dataframe\">\n",
              "  <thead>\n",
              "    <tr style=\"text-align: right;\">\n",
              "      <th></th>\n",
              "      <th>Parent</th>\n",
              "      <th>Child</th>\n",
              "      <th>g(n)</th>\n",
              "      <th>h(n)</th>\n",
              "    </tr>\n",
              "  </thead>\n",
              "  <tbody>\n",
              "    <tr>\n",
              "      <th>0</th>\n",
              "      <td>DINAJPUR</td>\n",
              "      <td>FULBARI</td>\n",
              "      <td>38</td>\n",
              "      <td>2</td>\n",
              "    </tr>\n",
              "    <tr>\n",
              "      <th>1</th>\n",
              "      <td>FULBARI</td>\n",
              "      <td>BIRAMPUR</td>\n",
              "      <td>14</td>\n",
              "      <td>34</td>\n",
              "    </tr>\n",
              "    <tr>\n",
              "      <th>2</th>\n",
              "      <td>BIRAMPUR</td>\n",
              "      <td>JOYPURHAT</td>\n",
              "      <td>35</td>\n",
              "      <td>12</td>\n",
              "    </tr>\n",
              "    <tr>\n",
              "      <th>3</th>\n",
              "      <td>JOYPURHAT</td>\n",
              "      <td>BOGURA</td>\n",
              "      <td>54</td>\n",
              "      <td>32</td>\n",
              "    </tr>\n",
              "    <tr>\n",
              "      <th>4</th>\n",
              "      <td>BOGURA</td>\n",
              "      <td>SHIRAJGANJ</td>\n",
              "      <td>62</td>\n",
              "      <td>27</td>\n",
              "    </tr>\n",
              "    <tr>\n",
              "      <th>5</th>\n",
              "      <td>SHIRAJGANJ</td>\n",
              "      <td>TANGAIL</td>\n",
              "      <td>49</td>\n",
              "      <td>54</td>\n",
              "    </tr>\n",
              "    <tr>\n",
              "      <th>6</th>\n",
              "      <td>TANGAIL</td>\n",
              "      <td>SAVAR</td>\n",
              "      <td>68</td>\n",
              "      <td>32</td>\n",
              "    </tr>\n",
              "    <tr>\n",
              "      <th>7</th>\n",
              "      <td>SAVAR</td>\n",
              "      <td>HEMAYETPUR</td>\n",
              "      <td>6</td>\n",
              "      <td>57</td>\n",
              "    </tr>\n",
              "    <tr>\n",
              "      <th>8</th>\n",
              "      <td>DINAJPUR</td>\n",
              "      <td>PARBATIPUR</td>\n",
              "      <td>30</td>\n",
              "      <td>2</td>\n",
              "    </tr>\n",
              "    <tr>\n",
              "      <th>9</th>\n",
              "      <td>PARBATIPUR</td>\n",
              "      <td>GOBINDAGANJ</td>\n",
              "      <td>101</td>\n",
              "      <td>17</td>\n",
              "    </tr>\n",
              "    <tr>\n",
              "      <th>10</th>\n",
              "      <td>GOBINDAGANJ</td>\n",
              "      <td>NAOGAON</td>\n",
              "      <td>78</td>\n",
              "      <td>46</td>\n",
              "    </tr>\n",
              "    <tr>\n",
              "      <th>11</th>\n",
              "      <td>NAOGAON</td>\n",
              "      <td>NATORE</td>\n",
              "      <td>54</td>\n",
              "      <td>59</td>\n",
              "    </tr>\n",
              "    <tr>\n",
              "      <th>12</th>\n",
              "      <td>NATORE</td>\n",
              "      <td>ISHWARDI</td>\n",
              "      <td>44</td>\n",
              "      <td>43</td>\n",
              "    </tr>\n",
              "    <tr>\n",
              "      <th>13</th>\n",
              "      <td>ISHWARDI</td>\n",
              "      <td>KUSTIA</td>\n",
              "      <td>34</td>\n",
              "      <td>31</td>\n",
              "    </tr>\n",
              "    <tr>\n",
              "      <th>14</th>\n",
              "      <td>KUSTIA</td>\n",
              "      <td>RAJBARI</td>\n",
              "      <td>66</td>\n",
              "      <td>24</td>\n",
              "    </tr>\n",
              "    <tr>\n",
              "      <th>15</th>\n",
              "      <td>RAJBARI</td>\n",
              "      <td>MANIKGANJ</td>\n",
              "      <td>66</td>\n",
              "      <td>34</td>\n",
              "    </tr>\n",
              "    <tr>\n",
              "      <th>16</th>\n",
              "      <td>MANIKGANJ</td>\n",
              "      <td>HEMAYETPUR</td>\n",
              "      <td>44</td>\n",
              "      <td>28</td>\n",
              "    </tr>\n",
              "    <tr>\n",
              "      <th>17</th>\n",
              "      <td>HEMAYETPUR</td>\n",
              "      <td>GABTOLI</td>\n",
              "      <td>9</td>\n",
              "      <td>17</td>\n",
              "    </tr>\n",
              "    <tr>\n",
              "      <th>18</th>\n",
              "      <td>GABTOLI</td>\n",
              "      <td>KALYANPUR</td>\n",
              "      <td>6</td>\n",
              "      <td>7</td>\n",
              "    </tr>\n",
              "    <tr>\n",
              "      <th>19</th>\n",
              "      <td>KALYANPUR</td>\n",
              "      <td>SHAYAMOLI</td>\n",
              "      <td>2</td>\n",
              "      <td>1</td>\n",
              "    </tr>\n",
              "    <tr>\n",
              "      <th>20</th>\n",
              "      <td>SHAYAMOLI</td>\n",
              "      <td>DHANMONDI</td>\n",
              "      <td>4</td>\n",
              "      <td>1</td>\n",
              "    </tr>\n",
              "    <tr>\n",
              "      <th>21</th>\n",
              "      <td>DHANMONDI</td>\n",
              "      <td>UAP</td>\n",
              "      <td>2</td>\n",
              "      <td>0</td>\n",
              "    </tr>\n",
              "  </tbody>\n",
              "</table>\n",
              "</div>"
            ],
            "text/plain": [
              "         Parent        Child  g(n)  h(n)\n",
              "0      DINAJPUR      FULBARI    38     2\n",
              "1       FULBARI     BIRAMPUR    14    34\n",
              "2      BIRAMPUR    JOYPURHAT    35    12\n",
              "3     JOYPURHAT       BOGURA    54    32\n",
              "4        BOGURA   SHIRAJGANJ    62    27\n",
              "5    SHIRAJGANJ      TANGAIL    49    54\n",
              "6       TANGAIL        SAVAR    68    32\n",
              "7         SAVAR   HEMAYETPUR     6    57\n",
              "8      DINAJPUR   PARBATIPUR    30     2\n",
              "9    PARBATIPUR  GOBINDAGANJ   101    17\n",
              "10  GOBINDAGANJ      NAOGAON    78    46\n",
              "11      NAOGAON       NATORE    54    59\n",
              "12       NATORE     ISHWARDI    44    43\n",
              "13     ISHWARDI       KUSTIA    34    31\n",
              "14       KUSTIA      RAJBARI    66    24\n",
              "15      RAJBARI    MANIKGANJ    66    34\n",
              "16    MANIKGANJ   HEMAYETPUR    44    28\n",
              "17   HEMAYETPUR      GABTOLI     9    17\n",
              "18      GABTOLI    KALYANPUR     6     7\n",
              "19    KALYANPUR    SHAYAMOLI     2     1\n",
              "20    SHAYAMOLI    DHANMONDI     4     1\n",
              "21    DHANMONDI          UAP     2     0"
            ]
          },
          "metadata": {},
          "execution_count": 23
        }
      ]
    },
    {
      "cell_type": "code",
      "metadata": {
        "colab": {
          "base_uri": "https://localhost:8080/"
        },
        "id": "GuaX7-S9c4kY",
        "outputId": "c11a9ee9-20f8-457d-dc3c-6d0f5b8e021d"
      },
      "source": [
        "header = input('Give Start State: ').upper()\n",
        "goal = input('Give Goal State: ').upper()"
      ],
      "execution_count": null,
      "outputs": [
        {
          "name": "stdout",
          "output_type": "stream",
          "text": [
            "Give Start State: dinajpur\n",
            "Give Goal State: uap\n"
          ]
        }
      ]
    },
    {
      "cell_type": "code",
      "metadata": {
        "colab": {
          "base_uri": "https://localhost:8080/"
        },
        "id": "a770iIFxc-nT",
        "outputId": "ed0259f4-2176-4899-a889-052b49fee90b"
      },
      "source": [
        "header,goal"
      ],
      "execution_count": null,
      "outputs": [
        {
          "output_type": "execute_result",
          "data": {
            "text/plain": [
              "('DINAJPUR', 'UAP')"
            ]
          },
          "metadata": {},
          "execution_count": 25
        }
      ]
    },
    {
      "cell_type": "code",
      "metadata": {
        "colab": {
          "base_uri": "https://localhost:8080/",
          "height": 726
        },
        "id": "aBxSiU2HdE4M",
        "outputId": "77b2f288-7ecf-42a1-c7a1-493f0f6c0ec2"
      },
      "source": [
        "df.columns = ['Parent', 'Child', 'g(n)', 'h(n)']\n",
        "df"
      ],
      "execution_count": null,
      "outputs": [
        {
          "output_type": "execute_result",
          "data": {
            "text/html": [
              "<div>\n",
              "<style scoped>\n",
              "    .dataframe tbody tr th:only-of-type {\n",
              "        vertical-align: middle;\n",
              "    }\n",
              "\n",
              "    .dataframe tbody tr th {\n",
              "        vertical-align: top;\n",
              "    }\n",
              "\n",
              "    .dataframe thead th {\n",
              "        text-align: right;\n",
              "    }\n",
              "</style>\n",
              "<table border=\"1\" class=\"dataframe\">\n",
              "  <thead>\n",
              "    <tr style=\"text-align: right;\">\n",
              "      <th></th>\n",
              "      <th>Parent</th>\n",
              "      <th>Child</th>\n",
              "      <th>g(n)</th>\n",
              "      <th>h(n)</th>\n",
              "    </tr>\n",
              "  </thead>\n",
              "  <tbody>\n",
              "    <tr>\n",
              "      <th>0</th>\n",
              "      <td>DINAJPUR</td>\n",
              "      <td>FULBARI</td>\n",
              "      <td>38</td>\n",
              "      <td>2</td>\n",
              "    </tr>\n",
              "    <tr>\n",
              "      <th>1</th>\n",
              "      <td>FULBARI</td>\n",
              "      <td>BIRAMPUR</td>\n",
              "      <td>14</td>\n",
              "      <td>34</td>\n",
              "    </tr>\n",
              "    <tr>\n",
              "      <th>2</th>\n",
              "      <td>BIRAMPUR</td>\n",
              "      <td>JOYPURHAT</td>\n",
              "      <td>35</td>\n",
              "      <td>12</td>\n",
              "    </tr>\n",
              "    <tr>\n",
              "      <th>3</th>\n",
              "      <td>JOYPURHAT</td>\n",
              "      <td>BOGURA</td>\n",
              "      <td>54</td>\n",
              "      <td>32</td>\n",
              "    </tr>\n",
              "    <tr>\n",
              "      <th>4</th>\n",
              "      <td>BOGURA</td>\n",
              "      <td>SHIRAJGANJ</td>\n",
              "      <td>62</td>\n",
              "      <td>27</td>\n",
              "    </tr>\n",
              "    <tr>\n",
              "      <th>5</th>\n",
              "      <td>SHIRAJGANJ</td>\n",
              "      <td>TANGAIL</td>\n",
              "      <td>49</td>\n",
              "      <td>54</td>\n",
              "    </tr>\n",
              "    <tr>\n",
              "      <th>6</th>\n",
              "      <td>TANGAIL</td>\n",
              "      <td>SAVAR</td>\n",
              "      <td>68</td>\n",
              "      <td>32</td>\n",
              "    </tr>\n",
              "    <tr>\n",
              "      <th>7</th>\n",
              "      <td>SAVAR</td>\n",
              "      <td>HEMAYETPUR</td>\n",
              "      <td>6</td>\n",
              "      <td>57</td>\n",
              "    </tr>\n",
              "    <tr>\n",
              "      <th>8</th>\n",
              "      <td>DINAJPUR</td>\n",
              "      <td>PARBATIPUR</td>\n",
              "      <td>30</td>\n",
              "      <td>2</td>\n",
              "    </tr>\n",
              "    <tr>\n",
              "      <th>9</th>\n",
              "      <td>PARBATIPUR</td>\n",
              "      <td>GOBINDAGANJ</td>\n",
              "      <td>101</td>\n",
              "      <td>17</td>\n",
              "    </tr>\n",
              "    <tr>\n",
              "      <th>10</th>\n",
              "      <td>GOBINDAGANJ</td>\n",
              "      <td>NAOGAON</td>\n",
              "      <td>78</td>\n",
              "      <td>46</td>\n",
              "    </tr>\n",
              "    <tr>\n",
              "      <th>11</th>\n",
              "      <td>NAOGAON</td>\n",
              "      <td>NATORE</td>\n",
              "      <td>54</td>\n",
              "      <td>59</td>\n",
              "    </tr>\n",
              "    <tr>\n",
              "      <th>12</th>\n",
              "      <td>NATORE</td>\n",
              "      <td>ISHWARDI</td>\n",
              "      <td>44</td>\n",
              "      <td>43</td>\n",
              "    </tr>\n",
              "    <tr>\n",
              "      <th>13</th>\n",
              "      <td>ISHWARDI</td>\n",
              "      <td>KUSTIA</td>\n",
              "      <td>34</td>\n",
              "      <td>31</td>\n",
              "    </tr>\n",
              "    <tr>\n",
              "      <th>14</th>\n",
              "      <td>KUSTIA</td>\n",
              "      <td>RAJBARI</td>\n",
              "      <td>66</td>\n",
              "      <td>24</td>\n",
              "    </tr>\n",
              "    <tr>\n",
              "      <th>15</th>\n",
              "      <td>RAJBARI</td>\n",
              "      <td>MANIKGANJ</td>\n",
              "      <td>66</td>\n",
              "      <td>34</td>\n",
              "    </tr>\n",
              "    <tr>\n",
              "      <th>16</th>\n",
              "      <td>MANIKGANJ</td>\n",
              "      <td>HEMAYETPUR</td>\n",
              "      <td>44</td>\n",
              "      <td>28</td>\n",
              "    </tr>\n",
              "    <tr>\n",
              "      <th>17</th>\n",
              "      <td>HEMAYETPUR</td>\n",
              "      <td>GABTOLI</td>\n",
              "      <td>9</td>\n",
              "      <td>17</td>\n",
              "    </tr>\n",
              "    <tr>\n",
              "      <th>18</th>\n",
              "      <td>GABTOLI</td>\n",
              "      <td>KALYANPUR</td>\n",
              "      <td>6</td>\n",
              "      <td>7</td>\n",
              "    </tr>\n",
              "    <tr>\n",
              "      <th>19</th>\n",
              "      <td>KALYANPUR</td>\n",
              "      <td>SHAYAMOLI</td>\n",
              "      <td>2</td>\n",
              "      <td>1</td>\n",
              "    </tr>\n",
              "    <tr>\n",
              "      <th>20</th>\n",
              "      <td>SHAYAMOLI</td>\n",
              "      <td>DHANMONDI</td>\n",
              "      <td>4</td>\n",
              "      <td>1</td>\n",
              "    </tr>\n",
              "    <tr>\n",
              "      <th>21</th>\n",
              "      <td>DHANMONDI</td>\n",
              "      <td>UAP</td>\n",
              "      <td>2</td>\n",
              "      <td>0</td>\n",
              "    </tr>\n",
              "  </tbody>\n",
              "</table>\n",
              "</div>"
            ],
            "text/plain": [
              "         Parent        Child  g(n)  h(n)\n",
              "0      DINAJPUR      FULBARI    38     2\n",
              "1       FULBARI     BIRAMPUR    14    34\n",
              "2      BIRAMPUR    JOYPURHAT    35    12\n",
              "3     JOYPURHAT       BOGURA    54    32\n",
              "4        BOGURA   SHIRAJGANJ    62    27\n",
              "5    SHIRAJGANJ      TANGAIL    49    54\n",
              "6       TANGAIL        SAVAR    68    32\n",
              "7         SAVAR   HEMAYETPUR     6    57\n",
              "8      DINAJPUR   PARBATIPUR    30     2\n",
              "9    PARBATIPUR  GOBINDAGANJ   101    17\n",
              "10  GOBINDAGANJ      NAOGAON    78    46\n",
              "11      NAOGAON       NATORE    54    59\n",
              "12       NATORE     ISHWARDI    44    43\n",
              "13     ISHWARDI       KUSTIA    34    31\n",
              "14       KUSTIA      RAJBARI    66    24\n",
              "15      RAJBARI    MANIKGANJ    66    34\n",
              "16    MANIKGANJ   HEMAYETPUR    44    28\n",
              "17   HEMAYETPUR      GABTOLI     9    17\n",
              "18      GABTOLI    KALYANPUR     6     7\n",
              "19    KALYANPUR    SHAYAMOLI     2     1\n",
              "20    SHAYAMOLI    DHANMONDI     4     1\n",
              "21    DHANMONDI          UAP     2     0"
            ]
          },
          "metadata": {},
          "execution_count": 26
        }
      ]
    },
    {
      "cell_type": "code",
      "metadata": {
        "id": "7vzXTAfKdH61"
      },
      "source": [
        "df['g(n)'] = df['g(n)'].astype('int32')\n",
        "df['h(n)'] = df['h(n)'].astype('int32') \n",
        "path = [header]\n",
        "sdf = df.copy()"
      ],
      "execution_count": null,
      "outputs": []
    },
    {
      "cell_type": "code",
      "metadata": {
        "colab": {
          "base_uri": "https://localhost:8080/"
        },
        "id": "QqDWM7U3vlZ4",
        "outputId": "6eacfdfd-cfee-40c8-870b-337a962a7958"
      },
      "source": [
        "path_cost = 0\n",
        "while True:\n",
        "  if header==goal:\n",
        "    break\n",
        "  sd = sdf[sdf.Parent==header]\n",
        "  sd['cost']=sd[['g(n)','h(n)']].sum(axis=1)\n",
        "  sd=sd.sort_values(by='cost',ascending=True).reset_index(drop=True)\n",
        "  print(sd)\n",
        "  header = sd.loc[0].Child\n",
        "  path_cost+=sd.loc[0]['g(n)']\n",
        "  path.append(header)"
      ],
      "execution_count": null,
      "outputs": [
        {
          "output_type": "stream",
          "name": "stdout",
          "text": [
            "     Parent       Child  g(n)  h(n)  cost\n",
            "0  DINAJPUR  PARBATIPUR    30     2    32\n",
            "1  DINAJPUR     FULBARI    38     2    40\n",
            "       Parent        Child  g(n)  h(n)  cost\n",
            "0  PARBATIPUR  GOBINDAGANJ   101    17   118\n",
            "        Parent    Child  g(n)  h(n)  cost\n",
            "0  GOBINDAGANJ  NAOGAON    78    46   124\n",
            "    Parent   Child  g(n)  h(n)  cost\n",
            "0  NAOGAON  NATORE    54    59   113\n",
            "   Parent     Child  g(n)  h(n)  cost\n",
            "0  NATORE  ISHWARDI    44    43    87\n",
            "     Parent   Child  g(n)  h(n)  cost\n",
            "0  ISHWARDI  KUSTIA    34    31    65\n",
            "   Parent    Child  g(n)  h(n)  cost\n",
            "0  KUSTIA  RAJBARI    66    24    90\n",
            "    Parent      Child  g(n)  h(n)  cost\n",
            "0  RAJBARI  MANIKGANJ    66    34   100\n",
            "      Parent       Child  g(n)  h(n)  cost\n",
            "0  MANIKGANJ  HEMAYETPUR    44    28    72\n",
            "       Parent    Child  g(n)  h(n)  cost\n",
            "0  HEMAYETPUR  GABTOLI     9    17    26\n",
            "    Parent      Child  g(n)  h(n)  cost\n",
            "0  GABTOLI  KALYANPUR     6     7    13\n",
            "      Parent      Child  g(n)  h(n)  cost\n",
            "0  KALYANPUR  SHAYAMOLI     2     1     3\n",
            "      Parent      Child  g(n)  h(n)  cost\n",
            "0  SHAYAMOLI  DHANMONDI     4     1     5\n",
            "      Parent Child  g(n)  h(n)  cost\n",
            "0  DHANMONDI   UAP     2     0     2\n"
          ]
        }
      ]
    },
    {
      "cell_type": "code",
      "metadata": {
        "colab": {
          "base_uri": "https://localhost:8080/"
        },
        "id": "iTvT8Z_kmj3E",
        "outputId": "8fe3fb65-96f9-4b7d-cd22-24a6c568b11d"
      },
      "source": [
        "print('Shortes path ',path)"
      ],
      "execution_count": null,
      "outputs": [
        {
          "output_type": "stream",
          "name": "stdout",
          "text": [
            "Shortes path  ['DINAJPUR', 'PARBATIPUR', 'GOBINDAGANJ', 'NAOGAON', 'NATORE', 'ISHWARDI', 'KUSTIA', 'RAJBARI', 'MANIKGANJ', 'HEMAYETPUR', 'GABTOLI', 'KALYANPUR', 'SHAYAMOLI', 'DHANMONDI', 'UAP']\n"
          ]
        }
      ]
    },
    {
      "cell_type": "code",
      "metadata": {
        "colab": {
          "base_uri": "https://localhost:8080/"
        },
        "id": "DR6jrjtMmnq0",
        "outputId": "b36841e8-8a81-41b5-a882-ca9477210df3"
      },
      "source": [
        "print('Total path cost is ',path_cost+list(sdf[sdf['Child']==goal]['h(n)'])[0])"
      ],
      "execution_count": null,
      "outputs": [
        {
          "output_type": "stream",
          "name": "stdout",
          "text": [
            "Total path cost is  540\n"
          ]
        }
      ]
    }
  ]
}